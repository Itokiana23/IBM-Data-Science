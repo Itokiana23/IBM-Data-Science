{
 "cells": [
  {
   "cell_type": "markdown",
   "id": "a0e75eae-f620-4021-9961-9fb19264672a",
   "metadata": {},
   "source": [
    "# Data Science Tools and Ecosystem"
   ]
  },
  {
   "cell_type": "markdown",
   "id": "9706d0c6-e475-476c-9d32-b5d1a582bc06",
   "metadata": {},
   "source": [
    "*__In this notebook, Data Science Tools and Ecosystem are summarized.__*"
   ]
  },
  {
   "cell_type": "markdown",
   "id": "214b7349-c512-449f-bc32-3edbfc10ba04",
   "metadata": {},
   "source": [
    "__Objectives:__\n",
    "- List of popular languages for Data Science\n",
    "- List of commonly used libraries used by Data Science\n",
    "- Open-source Data Science Tools"
   ]
  },
  {
   "cell_type": "markdown",
   "id": "0bd66edf-8a4d-4271-8152-210ced2bba7b",
   "metadata": {},
   "source": [
    "Some of the popular languages that Data Scientists use are:\n",
    "1. Python\n",
    "2. R\n",
    "3. Scala\n",
    "4. SQL\n",
    "5. Julia"
   ]
  },
  {
   "cell_type": "markdown",
   "id": "0dd6dc67-85b8-477c-84bb-3309c14488ac",
   "metadata": {},
   "source": [
    "Some of the commonly used libraries used by Data Scientists include:\n",
    "\n",
    "1. Pandas\n",
    "2. Matplotlib\n",
    "3. Numpy\n",
    "4. Tensorflow"
   ]
  },
  {
   "cell_type": "markdown",
   "id": "aa7a57c7-b29a-464c-9990-32c1ea92c405",
   "metadata": {},
   "source": [
    "| Data Science Tools |\n",
    "|--------------------|\n",
    "| Jupyter Notebook   |\n",
    "| RStudio            |\n",
    "| Apache Spark       |"
   ]
  },
  {
   "cell_type": "markdown",
   "id": "f61a364e-071b-4329-9763-aa9dcaf99b96",
   "metadata": {},
   "source": [
    "### Below are a few examples of evaluating arithmetic expressions in Python"
   ]
  },
  {
   "cell_type": "code",
   "execution_count": 2,
   "id": "3339cd01-8bd5-4b56-bb7d-d0c369662825",
   "metadata": {},
   "outputs": [
    {
     "data": {
      "text/plain": [
       "17"
      ]
     },
     "execution_count": 2,
     "metadata": {},
     "output_type": "execute_result"
    }
   ],
   "source": [
    "# This a simple arithmetic expression to mutiply then add integers\n",
    "(3*4)+5"
   ]
  },
  {
   "cell_type": "code",
   "execution_count": 3,
   "id": "97dc41cc-c2e3-42c3-979a-6ea5f1e0108f",
   "metadata": {},
   "outputs": [
    {
     "data": {
      "text/plain": [
       "3.3333333333333335"
      ]
     },
     "execution_count": 3,
     "metadata": {},
     "output_type": "execute_result"
    }
   ],
   "source": [
    "# This will convert 200 minutes to hours by dividing by 60\n",
    "200/60"
   ]
  },
  {
   "cell_type": "markdown",
   "id": "327421b9-9e99-494c-9483-92701ba19e29",
   "metadata": {},
   "source": [
    "## Author :\n",
    "NOMENIAVO ITOKIANA"
   ]
  },
  {
   "cell_type": "code",
   "execution_count": null,
   "id": "631bddd9-1a0a-4b8a-b844-91ac11fcc1aa",
   "metadata": {},
   "outputs": [],
   "source": []
  }
 ],
 "metadata": {
  "kernelspec": {
   "display_name": "Python 3 (ipykernel)",
   "language": "python",
   "name": "python3"
  },
  "language_info": {
   "codemirror_mode": {
    "name": "ipython",
    "version": 3
   },
   "file_extension": ".py",
   "mimetype": "text/x-python",
   "name": "python",
   "nbconvert_exporter": "python",
   "pygments_lexer": "ipython3",
   "version": "3.11.7"
  }
 },
 "nbformat": 4,
 "nbformat_minor": 5
}
